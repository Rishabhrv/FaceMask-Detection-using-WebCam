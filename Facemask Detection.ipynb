{
 "cells": [
  {
   "cell_type": "code",
   "execution_count": 1,
   "id": "211690a8-834d-474a-bb76-d215d0666df1",
   "metadata": {},
   "outputs": [],
   "source": [
    "import pickle\n",
    "import cv2\n",
    "import tensorflow as tf\n",
    "import matplotlib.pyplot as plt\n",
    "import numpy as np"
   ]
  },
  {
   "cell_type": "code",
   "execution_count": 2,
   "id": "fa155cb3-f607-4beb-8b85-e2b3c90c61b3",
   "metadata": {},
   "outputs": [],
   "source": [
    "haar = cv2.CascadeClassifier(r'D:\\Machine Learning\\haarcascade_frontalface_default.xml')\n",
    "eye = cv2.CascadeClassifier(r'D:\\Machine Learning\\haarcascade_eye.xml')"
   ]
  },
  {
   "cell_type": "code",
   "execution_count": 3,
   "id": "d4a2e9cb-2e17-4021-9a10-2f14bc8b0a55",
   "metadata": {},
   "outputs": [
    {
     "data": {
      "text/plain": [
       "'4.0.1'"
      ]
     },
     "execution_count": 3,
     "metadata": {},
     "output_type": "execute_result"
    }
   ],
   "source": [
    "cv2.__version__"
   ]
  },
  {
   "cell_type": "code",
   "execution_count": 5,
   "id": "13ac1a68-6f8b-419b-b85b-0fe2f708425f",
   "metadata": {},
   "outputs": [],
   "source": [
    "model = tf.keras.models.load_model(r'C:\\Users\\pc\\ML\\Projects\\Face mask project\\my.h5')"
   ]
  },
  {
   "cell_type": "code",
   "execution_count": 6,
   "id": "844b9051-6d06-45bd-b281-a277a7356a37",
   "metadata": {},
   "outputs": [],
   "source": [
    "def predict(path):\n",
    "\n",
    "    img = cv2.imread(path)\n",
    "    img = cv2.cvtColor(img,cv2.COLOR_BGR2RGB)\n",
    "    img = cv2.resize(img, (200,200),interpolation=cv2.INTER_NEAREST)\n",
    "    img = img/255.\n",
    "    plt.axis('off')\n",
    "    plt.imshow(img)\n",
    "    img = np.expand_dims(img,axis=0)\n",
    "    predict = model.predict(img,verbose=0)\n",
    "    predict = np.argmax(predict,axis = 1)\n",
    "\n",
    "    if predict == 1:\n",
    "      print('With Mask')\n",
    "    else:\n",
    "      print('No Mask')"
   ]
  },
  {
   "cell_type": "code",
   "execution_count": 18,
   "id": "7d17e965-997d-4fc0-b0a2-7bd1ce682037",
   "metadata": {},
   "outputs": [],
   "source": [
    "def detect(frame):\n",
    "   \n",
    "    img = cv2.imread(frame)\n",
    "    img = cv2.cvtColor(img,cv2.COLOR_BGR2RGB)\n",
    "    img = cv2.resize(img, (200,200),interpolation=cv2.INTER_NEAREST)\n",
    "    img = np.expand_dims(img,axis=0)\n",
    "    predict = model.predict(img)\n",
    "    predict = np.argmax(predict,axis = 1)\n",
    "    \n",
    "    return predict"
   ]
  },
  {
   "cell_type": "code",
   "execution_count": 31,
   "id": "1ab72781-45fa-4444-9cee-37bf7acf0614",
   "metadata": {},
   "outputs": [],
   "source": [
    "def pred(frame):\n",
    "    \n",
    "    img = np.expand_dims(frame,axis=0)\n",
    "    predict = model.predict(img)\n",
    "    predict = np.argmax(predict,axis = 1)\n",
    "    \n",
    "    return predict"
   ]
  },
  {
   "cell_type": "code",
   "execution_count": 8,
   "id": "8494b983-e447-4b2a-8476-2e2bfe125470",
   "metadata": {},
   "outputs": [],
   "source": [
    "def label(img,text,pos,bg):\n",
    "    text_size = cv2.getTextSize(text,cv2.FONT_HERSHEY_COMPLEX,2,cv2.FILLED)\n",
    "    \n",
    "    end_x = pos[0] + text_size[0][0] + 5\n",
    "    end_y = pos[1] + text_size[0][1] - 5\n",
    "    \n",
    "    cv2.rectangle(img,pos,(end_x,end_y),bg,cv2.FILLED)\n",
    "    cv2.putText(img,text,pos,cv2.FONT_HERSHEY_COMPLEX,1,(0,0,0),1,cv2.LINE_AA)"
   ]
  },
  {
   "cell_type": "code",
   "execution_count": 9,
   "id": "8ec36206-7d1c-4ba5-8ebf-9badc09cdc68",
   "metadata": {},
   "outputs": [],
   "source": [
    "def detectface(img):\n",
    "    crd = haar.detectMultiScale(img)\n",
    "    return crd"
   ]
  },
  {
   "cell_type": "code",
   "execution_count": 10,
   "id": "0334ab39-0f79-432b-853a-6122a4f42aae",
   "metadata": {},
   "outputs": [],
   "source": [
    "def detecteye(img):\n",
    "    detect = eye.detectMultiScale(img)\n",
    "    return detect"
   ]
  },
  {
   "cell_type": "code",
   "execution_count": 6,
   "id": "2f551747-667e-4b4a-9e83-8180dbfc9d3a",
   "metadata": {},
   "outputs": [],
   "source": [
    "cap = cv2.VideoCapture(0)"
   ]
  },
  {
   "cell_type": "code",
   "execution_count": null,
   "id": "7dfe3769-ca6f-43b7-b33d-fabb001d62d2",
   "metadata": {},
   "outputs": [],
   "source": [
    "cap = cv2.VideoCapture(0)\n",
    "\n",
    "while True:\n",
    "    \n",
    "    ret,frame = cap.read()\n",
    "    \n",
    "    gray = cv2.cvtColor(frame, cv2.COLOR_BGR2GRAY)\n",
    "    \n",
    "    cv2.imshow('window',gray)\n",
    "    \n",
    "    if cv2.waitKey(1) & 0xFF == ord('x'):\n",
    "        break\n",
    "        \n",
    "cap.release()        \n",
    "cv2.destroyAllWindows()"
   ]
  },
  {
   "cell_type": "markdown",
   "id": "aef97cfb-99fc-4414-a833-9349a8adb975",
   "metadata": {},
   "source": [
    "Mask Detection"
   ]
  },
  {
   "cell_type": "code",
   "execution_count": null,
   "id": "e44f0879-b077-42ec-b8a3-d31dccd22169",
   "metadata": {},
   "outputs": [],
   "source": [
    "cap = cv2.VideoCapture(0)\n",
    "\n",
    "while True:\n",
    "    ret,frame = cap.read()\n",
    "    img = cv2.resize(frame,(200,200))\n",
    "    \n",
    "    y_pred = pred(img)\n",
    "    \n",
    "    if y_pred == 1:\n",
    "        label(frame,'Mask',(30,30),(0,255,0))\n",
    "    else:\n",
    "        label(frame,'No Mask',(30,30),(0,0,255))\n",
    "        \n",
    "    \n",
    "    cv2.imshow('window',frame)\n",
    "    \n",
    "    if cv2.waitKey(1) & 0xFF == ord('x'):\n",
    "        break\n",
    "        \n",
    "cap.release()        \n",
    "cv2.destroyAllWindows()"
   ]
  },
  {
   "cell_type": "markdown",
   "id": "22eab8e2-1a19-4b4d-9a47-09f37b19a61c",
   "metadata": {},
   "source": [
    "Face and mask detection"
   ]
  },
  {
   "cell_type": "code",
   "execution_count": null,
   "id": "1eb73042-4ed1-4129-afbf-5a8b4fe2508c",
   "metadata": {},
   "outputs": [],
   "source": [
    "while True:\n",
    "    ret,frame = cap.read()\n",
    "    frame = cv2.rotate(frame,cv2.ROTATE_180)\n",
    "    img = cv2.resize(frame,(125,125))\n",
    "    \n",
    "    y_pred = detect(img)\n",
    "    \n",
    "    crd = detectface(cv2.cvtColor(frame,cv2.COLOR_BGR2GRAY))\n",
    "    for x,y,w,h in crd:\n",
    "        cv2.rectangle(frame,(x,y),(x+w,y+h),(255,0,0),2)\n",
    "        \n",
    " \n",
    "    if y_pred == 1:\n",
    "        label(frame,'Mask',(30,30),(0,255,0))\n",
    "    else:\n",
    "        label(frame,'No Mask',(30,30),(0,0,255))\n",
    "        \n",
    "    \n",
    "    cv2.imshow('window',frame)\n",
    "    \n",
    "    if cv2.waitKey(1) & 0xFF == ord('x'):\n",
    "        break\n",
    "cap.release()       \n",
    "cv2.destroyAllWindows()"
   ]
  },
  {
   "cell_type": "markdown",
   "id": "35b00b64-f159-4888-bddf-e25a4969a458",
   "metadata": {},
   "source": [
    "Face and Eye Detection"
   ]
  },
  {
   "cell_type": "code",
   "execution_count": null,
   "id": "9a9cad16-3171-4e1f-abf4-9eb04b41b7b3",
   "metadata": {},
   "outputs": [],
   "source": [
    "import numpy as np\n",
    "import cv2\n",
    "\n",
    "\n",
    "cap = cv2.VideoCapture(0)\n",
    "\n",
    "while 1:\n",
    "    ret, img = cap.read()\n",
    "    img = cv2.rotate(img,cv2.ROTATE_180)\n",
    "    gray = cv2.cvtColor(img, cv2.COLOR_BGR2GRAY)\n",
    "    \n",
    "    faces = haar.detectMultiScale(gray, 1.3, 5)\n",
    "\n",
    "    for (x, y, w, h) in faces:\n",
    "        cv2.rectangle(img, (x, y), (x + w, y + h), (255, 0, 0), 2)\n",
    "        roi_gray = gray[y:y + h, x:x + w]\n",
    "        roi_color = img[y:y + h, x:x + w]\n",
    "\n",
    "        eyes = eye.detectMultiScale(roi_gray)\n",
    "        for (ex, ey, ew, eh) in eyes:\n",
    "            cv2.rectangle(roi_color, (ex, ey), (ex + ew, ey + eh), (0, 255, 0), 2)\n",
    "            \n",
    "    cv2.imshow('img', img)\n",
    "    if cv2.waitKey(1) & 0xFF==ord('x'):\n",
    "        break\n",
    "\n",
    "cap.release()\n",
    "cv2.destroyAllWindows()\n"
   ]
  },
  {
   "cell_type": "code",
   "execution_count": null,
   "id": "ad4880e3-5cb1-436a-9c7c-27d2b53645b6",
   "metadata": {},
   "outputs": [],
   "source": []
  }
 ],
 "metadata": {
  "kernelspec": {
   "display_name": "Python 3",
   "language": "python",
   "name": "python3"
  },
  "language_info": {
   "codemirror_mode": {
    "name": "ipython",
    "version": 3
   },
   "file_extension": ".py",
   "mimetype": "text/x-python",
   "name": "python",
   "nbconvert_exporter": "python",
   "pygments_lexer": "ipython3",
   "version": "3.8.8"
  }
 },
 "nbformat": 4,
 "nbformat_minor": 5
}
